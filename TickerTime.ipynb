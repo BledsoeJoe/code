{
 "cells": [
  {
   "cell_type": "code",
   "execution_count": 32,
   "id": "20150696",
   "metadata": {},
   "outputs": [],
   "source": [
    "import numpy as np\n",
    "import pandas as pd\n",
    "from sklearn.pipeline import make_pipeline\n",
    "import requests\n",
    "import pyodbc\n",
    "import yfinance as yf\n",
    "from tensorflow import keras"
   ]
  },
  {
   "cell_type": "code",
   "execution_count": 33,
   "id": "3540af28",
   "metadata": {},
   "outputs": [],
   "source": [
    "ticker_names = [\"PLUG\",\"PFE\",\"AMD\",\"NVDA\",\"SPY\",\"QQQ\",\"TSLA\",\"AAPL\",\"GOOG\",\"MRNA\"]\n",
    "tickers = {}\n",
    "tickers[\"PLUG\"] = yf.Ticker(ticker_names[0])"
   ]
  },
  {
   "cell_type": "code",
   "execution_count": 34,
   "id": "4c13accf",
   "metadata": {},
   "outputs": [],
   "source": [
    "for i in range(len(ticker_names)):\n",
    "    tickers[ticker_names[i]] = yf.Ticker(ticker_names[i]).history(period=\"ytd\")"
   ]
  },
  {
   "cell_type": "code",
   "execution_count": 45,
   "id": "bf2a2ca3",
   "metadata": {},
   "outputs": [
    {
     "data": {
      "text/plain": [
       "(10, 7)"
      ]
     },
     "execution_count": 45,
     "metadata": {},
     "output_type": "execute_result"
    }
   ],
   "source": [
    "X_full = np.zeros((len(ticker_names),tickers[ticker_names[0]].shape[1]))\n",
    "# X_full = np.zeros((len(ticker_names),len(tickers[\"PLUG\"])))\n",
    "Y_full = np.zeros((1,len(tickers[ticker_names[0]])))\n",
    "tickers[\"PLUG\"].shape[1]\n",
    "X_full.shape"
   ]
  },
  {
   "cell_type": "code",
   "execution_count": 44,
   "id": "8bb1e43a",
   "metadata": {},
   "outputs": [
    {
     "ename": "ValueError",
     "evalue": "could not broadcast input array from shape (248,7) into shape (7,)",
     "output_type": "error",
     "traceback": [
      "\u001b[0;31m---------------------------------------------------------------------------\u001b[0m",
      "\u001b[0;31mValueError\u001b[0m                                Traceback (most recent call last)",
      "\u001b[0;32m/tmp/ipykernel_28942/1265223666.py\u001b[0m in \u001b[0;36m<module>\u001b[0;34m\u001b[0m\n\u001b[1;32m      1\u001b[0m \u001b[0;32mfor\u001b[0m \u001b[0mi\u001b[0m \u001b[0;32min\u001b[0m \u001b[0mrange\u001b[0m\u001b[0;34m(\u001b[0m\u001b[0mlen\u001b[0m\u001b[0;34m(\u001b[0m\u001b[0mticker_names\u001b[0m\u001b[0;34m)\u001b[0m\u001b[0;34m)\u001b[0m\u001b[0;34m:\u001b[0m\u001b[0;34m\u001b[0m\u001b[0;34m\u001b[0m\u001b[0m\n\u001b[0;32m----> 2\u001b[0;31m     \u001b[0mX_full\u001b[0m\u001b[0;34m[\u001b[0m\u001b[0mi\u001b[0m\u001b[0;34m,\u001b[0m\u001b[0;34m:\u001b[0m\u001b[0;34m]\u001b[0m \u001b[0;34m=\u001b[0m \u001b[0mtickers\u001b[0m\u001b[0;34m[\u001b[0m\u001b[0mticker_names\u001b[0m\u001b[0;34m[\u001b[0m\u001b[0mi\u001b[0m\u001b[0;34m]\u001b[0m\u001b[0;34m]\u001b[0m\u001b[0;34m.\u001b[0m\u001b[0mto_numpy\u001b[0m\u001b[0;34m(\u001b[0m\u001b[0;34m)\u001b[0m\u001b[0;34m\u001b[0m\u001b[0;34m\u001b[0m\u001b[0m\n\u001b[0m",
      "\u001b[0;31mValueError\u001b[0m: could not broadcast input array from shape (248,7) into shape (7,)"
     ]
    }
   ],
   "source": [
    "for i in range(len(ticker_names)):\n",
    "    X_full[i,:] = tickers[ticker_names[i]].to_numpy()"
   ]
  },
  {
   "cell_type": "markdown",
   "id": "08d6c5aa",
   "metadata": {},
   "source": [
    "## Feature Engineering"
   ]
  },
  {
   "cell_type": "code",
   "execution_count": null,
   "id": "36cd6abd",
   "metadata": {},
   "outputs": [],
   "source": [
    "#RSI\n",
    "#Volatility\n",
    "#Moving Averages\n",
    "#MACD\n",
    "#Bollinger Bands"
   ]
  },
  {
   "cell_type": "code",
   "execution_count": 10,
   "id": "f2130384",
   "metadata": {},
   "outputs": [],
   "source": [
    "model = keras.Sequential();\n",
    "model.add(keras.layers.Dense(10))\n",
    "model.add(keras.layers.Dense(15))\n",
    "model.add(keras.layers.LSTM(10))\n",
    "model.add(keras.layers.Dense(4))\n",
    "model.add(keras.layers.Dense(1))\n",
    "model.compile(optimizer=\"Adam\", loss=\"mse\")"
   ]
  },
  {
   "cell_type": "code",
   "execution_count": null,
   "id": "a9d49fe4",
   "metadata": {},
   "outputs": [],
   "source": []
  }
 ],
 "metadata": {
  "kernelspec": {
   "display_name": "Python 3 (ipykernel)",
   "language": "python",
   "name": "python3"
  },
  "language_info": {
   "codemirror_mode": {
    "name": "ipython",
    "version": 3
   },
   "file_extension": ".py",
   "mimetype": "text/x-python",
   "name": "python",
   "nbconvert_exporter": "python",
   "pygments_lexer": "ipython3",
   "version": "3.9.7"
  }
 },
 "nbformat": 4,
 "nbformat_minor": 5
}
